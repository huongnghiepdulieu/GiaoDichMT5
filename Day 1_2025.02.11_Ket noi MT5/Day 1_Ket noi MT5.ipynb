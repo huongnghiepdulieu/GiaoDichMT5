{
 "cells": [
  {
   "cell_type": "code",
   "execution_count": 5,
   "metadata": {},
   "outputs": [
    {
     "name": "stdout",
     "output_type": "stream",
     "text": [
      "Tai khoan: 6338576, Balance: 9990.04\n",
      "San giao dich: OANDA Corporation\n"
     ]
    },
    {
     "data": {
      "text/plain": [
       "True"
      ]
     },
     "execution_count": 5,
     "metadata": {},
     "output_type": "execute_result"
    }
   ],
   "source": [
    "import MetaTrader5 as mt5\n",
    "\n",
    "# Ket noi MT5\n",
    "if not mt5.initialize():\n",
    "    print(\"Ket noi MT5 that bai!\", mt5.last_error())\n",
    "    quit()\n",
    "\n",
    "# Lay thong tin tai khoan\n",
    "account_info = mt5.account_info()\n",
    "if account_info is not None:\n",
    "    print(f\"Tai khoan: {account_info.login}, Balance: {account_info.balance}\")\n",
    "    print(f\"San giao dich: {account_info.company}\")  # In ra ten san giao dich\n",
    "\n",
    "# Dong ket noi\n",
    "mt5.shutdown()\n"
   ]
  }
 ],
 "metadata": {
  "kernelspec": {
   "display_name": "Python 3",
   "language": "python",
   "name": "python3"
  },
  "language_info": {
   "codemirror_mode": {
    "name": "ipython",
    "version": 3
   },
   "file_extension": ".py",
   "mimetype": "text/x-python",
   "name": "python",
   "nbconvert_exporter": "python",
   "pygments_lexer": "ipython3",
   "version": "3.11.6"
  }
 },
 "nbformat": 4,
 "nbformat_minor": 2
}
