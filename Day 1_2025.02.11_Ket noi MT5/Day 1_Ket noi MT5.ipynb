{
 "cells": [
  {
   "cell_type": "code",
   "execution_count": 3,
   "metadata": {},
   "outputs": [
    {
     "ename": "ModuleNotFoundError",
     "evalue": "No module named 'MetaTrader5'",
     "output_type": "error",
     "traceback": [
      "\u001b[0;31m---------------------------------------------------------------------------\u001b[0m",
      "\u001b[0;31mModuleNotFoundError\u001b[0m                       Traceback (most recent call last)",
      "Cell \u001b[0;32mIn[3], line 1\u001b[0m\n\u001b[0;32m----> 1\u001b[0m \u001b[38;5;28;01mimport\u001b[39;00m \u001b[38;5;21;01mMetaTrader5\u001b[39;00m \u001b[38;5;28;01mas\u001b[39;00m \u001b[38;5;21;01mmt5\u001b[39;00m\n\u001b[1;32m      3\u001b[0m \u001b[38;5;66;03m# Kết nối MT5\u001b[39;00m\n\u001b[1;32m      4\u001b[0m \u001b[38;5;28;01mif\u001b[39;00m \u001b[38;5;129;01mnot\u001b[39;00m mt5\u001b[38;5;241m.\u001b[39minitialize():\n",
      "\u001b[0;31mModuleNotFoundError\u001b[0m: No module named 'MetaTrader5'"
     ]
    }
   ],
   "source": [
    "import MetaTrader5 as mt5\n",
    "\n",
    "# Kết nối MT5\n",
    "if not mt5.initialize():\n",
    "    print(\"Kết nối MT5 thất bại!\", mt5.last_error())\n",
    "    quit()\n",
    "\n",
    "# Lấy thông tin tài khoản\n",
    "account_info = mt5.account_info()\n",
    "if account_info is not None:\n",
    "    print(f\"Tài khoản: {account_info.login}, Balance: {account_info.balance}\")\n",
    "\n",
    "# Đóng kết nối\n",
    "mt5.shutdown()\n"
   ]
  }
 ],
 "metadata": {
  "kernelspec": {
   "display_name": "Python 3",
   "language": "python",
   "name": "python3"
  },
  "language_info": {
   "codemirror_mode": {
    "name": "ipython",
    "version": 3
   },
   "file_extension": ".py",
   "mimetype": "text/x-python",
   "name": "python",
   "nbconvert_exporter": "python",
   "pygments_lexer": "ipython3",
   "version": "3.12.1"
  }
 },
 "nbformat": 4,
 "nbformat_minor": 2
}
