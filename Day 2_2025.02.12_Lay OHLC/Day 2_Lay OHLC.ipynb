{
 "cells": [
  {
   "cell_type": "code",
   "execution_count": 7,
   "metadata": {},
   "outputs": [
    {
     "name": "stdout",
     "output_type": "stream",
     "text": [
      "                 time     open     high      low    close\n",
      "0 2025-02-12 12:31:00  1.03737  1.03737  1.03729  1.03736\n",
      "1 2025-02-12 12:32:00  1.03737  1.03747  1.03730  1.03731\n",
      "2 2025-02-12 12:33:00  1.03731  1.03737  1.03718  1.03723\n",
      "3 2025-02-12 12:34:00  1.03724  1.03725  1.03715  1.03715\n",
      "4 2025-02-12 12:35:00  1.03716  1.03733  1.03714  1.03727\n",
      "5 2025-02-12 12:36:00  1.03727  1.03727  1.03717  1.03727\n",
      "6 2025-02-12 12:37:00  1.03727  1.03731  1.03715  1.03717\n",
      "7 2025-02-12 12:38:00  1.03717  1.03734  1.03716  1.03721\n",
      "8 2025-02-12 12:39:00  1.03721  1.03734  1.03716  1.03732\n",
      "9 2025-02-12 12:40:00  1.03732  1.03734  1.03730  1.03731\n"
     ]
    },
    {
     "data": {
      "text/plain": [
       "True"
      ]
     },
     "execution_count": 7,
     "metadata": {},
     "output_type": "execute_result"
    }
   ],
   "source": [
    "import MetaTrader5 as mt5\n",
    "import pandas as pd\n",
    "\n",
    "# Ket noi MT5\n",
    "if not mt5.initialize():\n",
    "    print(\"Ket noi MT5 that bai!\", mt5.last_error())\n",
    "    quit()\n",
    "\n",
    "# Chon cap tien te hoac tai san can lay du lieu\n",
    "symbol = \"EURUSD.sml\"\n",
    "timeframe = mt5.TIMEFRAME_M1  # Khung thoi gian 1 phut\n",
    "n_bars = 10  # So luong nen muon lay\n",
    "\n",
    "# Lay du lieu gia\n",
    "rates = mt5.copy_rates_from_pos(symbol, timeframe, 0, n_bars)\n",
    "\n",
    "# Kiem tra du lieu\n",
    "if rates is None:\n",
    "    print(\"Khong lay duoc du lieu!\")\n",
    "else:\n",
    "    # Chuyen thanh DataFrame de de xem\n",
    "    df = pd.DataFrame(rates)\n",
    "    df['time'] = pd.to_datetime(df['time'], unit='s')  # Chuyen doi timestamp\n",
    "    print(df[['time', 'open', 'high', 'low', 'close']])\n",
    "\n",
    "# Dong ket noi\n",
    "mt5.shutdown()\n",
    "# #             "
   ]
  }
 ],
 "metadata": {
  "kernelspec": {
   "display_name": "Python 3",
   "language": "python",
   "name": "python3"
  },
  "language_info": {
   "codemirror_mode": {
    "name": "ipython",
    "version": 3
   },
   "file_extension": ".py",
   "mimetype": "text/x-python",
   "name": "python",
   "nbconvert_exporter": "python",
   "pygments_lexer": "ipython3",
   "version": "3.11.6"
  }
 },
 "nbformat": 4,
 "nbformat_minor": 2
}
